{
 "cells": [
  {
   "cell_type": "code",
   "execution_count": 1,
   "id": "ace1ea17-d556-4c37-9e9b-bedfc60ce64c",
   "metadata": {
    "tags": []
   },
   "outputs": [],
   "source": [
    "import numpy as np\n",
    "import pandas as pd"
   ]
  },
  {
   "cell_type": "code",
   "execution_count": 2,
   "id": "45f1b9eb-9d22-4766-9f8d-a83245537d4b",
   "metadata": {
    "tags": []
   },
   "outputs": [],
   "source": [
    "g7_pop = pd.Series([35.467, 63.951, 80.940, 60.665, 127.061, 64.511, 318.523])"
   ]
  },
  {
   "cell_type": "code",
   "execution_count": 3,
   "id": "2931f49c-0d54-452f-ad4a-10e819f7ffd3",
   "metadata": {
    "tags": []
   },
   "outputs": [
    {
     "data": {
      "text/plain": [
       "0     35.467\n",
       "1     63.951\n",
       "2     80.940\n",
       "3     60.665\n",
       "4    127.061\n",
       "5     64.511\n",
       "6    318.523\n",
       "dtype: float64"
      ]
     },
     "execution_count": 3,
     "metadata": {},
     "output_type": "execute_result"
    }
   ],
   "source": [
    "g7_pop"
   ]
  },
  {
   "cell_type": "code",
   "execution_count": 4,
   "id": "5ebc0400-bc91-460b-86df-2a9e7535ded1",
   "metadata": {
    "tags": []
   },
   "outputs": [
    {
     "data": {
      "text/plain": [
       "pandas.core.series.Series"
      ]
     },
     "execution_count": 4,
     "metadata": {},
     "output_type": "execute_result"
    }
   ],
   "source": [
    "type(g7_pop)"
   ]
  },
  {
   "cell_type": "code",
   "execution_count": 5,
   "id": "1e82e383-d7d6-4002-97c5-24da71f3ca8e",
   "metadata": {
    "tags": []
   },
   "outputs": [],
   "source": [
    "g7_pop.name = 'G7 Population in millions'"
   ]
  },
  {
   "cell_type": "code",
   "execution_count": 6,
   "id": "15294d23-88bb-4c5c-9551-a3d41587792c",
   "metadata": {
    "tags": []
   },
   "outputs": [
    {
     "data": {
      "text/plain": [
       "0     35.467\n",
       "1     63.951\n",
       "2     80.940\n",
       "3     60.665\n",
       "4    127.061\n",
       "5     64.511\n",
       "6    318.523\n",
       "Name: G7 Population in millions, dtype: float64"
      ]
     },
     "execution_count": 6,
     "metadata": {},
     "output_type": "execute_result"
    }
   ],
   "source": [
    "g7_pop"
   ]
  },
  {
   "cell_type": "code",
   "execution_count": 7,
   "id": "af608ff3-a362-4d51-905e-639bcbac86bd",
   "metadata": {
    "tags": []
   },
   "outputs": [
    {
     "data": {
      "text/plain": [
       "dtype('float64')"
      ]
     },
     "execution_count": 7,
     "metadata": {},
     "output_type": "execute_result"
    }
   ],
   "source": [
    "g7_pop.dtype"
   ]
  },
  {
   "cell_type": "code",
   "execution_count": 9,
   "id": "b5607c69-7404-457f-8d02-227497384b3b",
   "metadata": {
    "tags": []
   },
   "outputs": [
    {
     "data": {
      "text/plain": [
       "array([ 35.467,  63.951,  80.94 ,  60.665, 127.061,  64.511, 318.523])"
      ]
     },
     "execution_count": 9,
     "metadata": {},
     "output_type": "execute_result"
    }
   ],
   "source": [
    "g7_pop.values"
   ]
  },
  {
   "cell_type": "code",
   "execution_count": 10,
   "id": "74de538f-a734-44cb-8e3f-54b5f73c115b",
   "metadata": {
    "tags": []
   },
   "outputs": [
    {
     "data": {
      "text/plain": [
       "numpy.ndarray"
      ]
     },
     "execution_count": 10,
     "metadata": {},
     "output_type": "execute_result"
    }
   ],
   "source": [
    "type(g7_pop.values)"
   ]
  },
  {
   "cell_type": "code",
   "execution_count": 11,
   "id": "5161c04d-708c-4cb7-985e-6a0107ea2084",
   "metadata": {
    "tags": []
   },
   "outputs": [],
   "source": [
    "g7_pop.index = [\n",
    "    'Canada',\n",
    "    'France',\n",
    "    'Germany',\n",
    "    'Italy',\n",
    "    'Japan',\n",
    "    'United Kingdom',\n",
    "    'United States',\n",
    "]"
   ]
  },
  {
   "cell_type": "code",
   "execution_count": 12,
   "id": "976b8449-0f97-46d1-9cc8-47257edf2f7f",
   "metadata": {
    "tags": []
   },
   "outputs": [
    {
     "data": {
      "text/plain": [
       "Canada             35.467\n",
       "France             63.951\n",
       "Germany            80.940\n",
       "Italy              60.665\n",
       "Japan             127.061\n",
       "United Kingdom     64.511\n",
       "United States     318.523\n",
       "Name: G7 Population in millions, dtype: float64"
      ]
     },
     "execution_count": 12,
     "metadata": {},
     "output_type": "execute_result"
    }
   ],
   "source": [
    "g7_pop"
   ]
  },
  {
   "cell_type": "code",
   "execution_count": 13,
   "id": "68cd035d-e1cb-49c1-8d6e-179c4ed3f0eb",
   "metadata": {
    "tags": []
   },
   "outputs": [],
   "source": [
    "g7_pop2 = pd.Series({\n",
    "    'Canada': 35.467,\n",
    "    'France': 63.951,\n",
    "    'Germany': 80.94,\n",
    "    'Italy': 60.665,\n",
    "    'Japan': 127.061,\n",
    "    'United Kingdom': 64.511,\n",
    "    'United States': 318.523\n",
    "}, name='G7 Population in millions')"
   ]
  },
  {
   "cell_type": "code",
   "execution_count": 15,
   "id": "0643861e-7085-4143-9c6a-378581c84a02",
   "metadata": {
    "tags": []
   },
   "outputs": [],
   "source": [
    "pop = [35.467, 63.951, 80.940, 60.665, 127.061, 64.511, 318.523]\n",
    "count = [\n",
    "    'Canada',\n",
    "    'France',\n",
    "    'Germany',\n",
    "    'Italy',\n",
    "    'Japan',\n",
    "    'United Kingdom',\n",
    "    'United States',\n",
    "]\n",
    "g72 = pd.Series(pop,index = count,name = \"G7 Country Pop In Milion\")"
   ]
  },
  {
   "cell_type": "code",
   "execution_count": 16,
   "id": "6f16d3ad-fe79-4dbc-a4cc-988bd04b7c85",
   "metadata": {
    "tags": []
   },
   "outputs": [
    {
     "data": {
      "text/plain": [
       "35.467"
      ]
     },
     "execution_count": 16,
     "metadata": {},
     "output_type": "execute_result"
    }
   ],
   "source": [
    "g72[0]"
   ]
  },
  {
   "cell_type": "code",
   "execution_count": 18,
   "id": "c8cf0a6c-bb26-4ea0-9c22-c574d3dad8fd",
   "metadata": {
    "tags": []
   },
   "outputs": [
    {
     "data": {
      "text/plain": [
       "Canada    35.467\n",
       "France    63.951\n",
       "Name: G7 Country Pop In Milion, dtype: float64"
      ]
     },
     "execution_count": 18,
     "metadata": {},
     "output_type": "execute_result"
    }
   ],
   "source": [
    "g72[[\"Canada\",\"France\"]]"
   ]
  },
  {
   "cell_type": "code",
   "execution_count": 19,
   "id": "25f0cac1-9ac5-496e-a2bd-b4ea6461f106",
   "metadata": {
    "tags": []
   },
   "outputs": [
    {
     "data": {
      "text/plain": [
       "Canada      35.467\n",
       "France      63.951\n",
       "Germany     80.940\n",
       "Italy       60.665\n",
       "Japan      127.061\n",
       "Name: G7 Country Pop In Milion, dtype: float64"
      ]
     },
     "execution_count": 19,
     "metadata": {},
     "output_type": "execute_result"
    }
   ],
   "source": [
    "g72[:5]"
   ]
  },
  {
   "cell_type": "code",
   "execution_count": 20,
   "id": "25aae043-f48a-494d-b277-314a9d5edeb8",
   "metadata": {
    "tags": []
   },
   "outputs": [
    {
     "data": {
      "text/plain": [
       "35.467"
      ]
     },
     "execution_count": 20,
     "metadata": {},
     "output_type": "execute_result"
    }
   ],
   "source": [
    "g7_pop.iloc[0]"
   ]
  },
  {
   "cell_type": "code",
   "execution_count": 22,
   "id": "6baa033d-6dd2-4033-9c62-70d8a2aba1c5",
   "metadata": {
    "tags": []
   },
   "outputs": [
    {
     "data": {
      "text/plain": [
       "35.467"
      ]
     },
     "execution_count": 22,
     "metadata": {},
     "output_type": "execute_result"
    }
   ],
   "source": [
    "g72.iloc[0]"
   ]
  },
  {
   "cell_type": "code",
   "execution_count": 23,
   "id": "6452f53e-0433-4436-ac52-662e0abec080",
   "metadata": {
    "tags": []
   },
   "outputs": [
    {
     "data": {
      "text/plain": [
       "Canada            False\n",
       "France            False\n",
       "Germany            True\n",
       "Italy             False\n",
       "Japan              True\n",
       "United Kingdom    False\n",
       "United States      True\n",
       "Name: G7 Country Pop In Milion, dtype: bool"
      ]
     },
     "execution_count": 23,
     "metadata": {},
     "output_type": "execute_result"
    }
   ],
   "source": [
    "g72 > 70"
   ]
  },
  {
   "cell_type": "code",
   "execution_count": 24,
   "id": "8d370b6f-9bc4-4170-be03-fc456a5ffa14",
   "metadata": {
    "tags": []
   },
   "outputs": [
    {
     "data": {
      "text/plain": [
       "Germany           80.940\n",
       "Japan            127.061\n",
       "United States    318.523\n",
       "Name: G7 Country Pop In Milion, dtype: float64"
      ]
     },
     "execution_count": 24,
     "metadata": {},
     "output_type": "execute_result"
    }
   ],
   "source": [
    "g72[g72 > 70]"
   ]
  },
  {
   "cell_type": "code",
   "execution_count": 26,
   "id": "a016d5c9-4bf5-4569-9b11-0c7b93009b94",
   "metadata": {
    "tags": []
   },
   "outputs": [
    {
     "data": {
      "text/plain": [
       "Canada            35.467\n",
       "France            63.951\n",
       "Italy             60.665\n",
       "United Kingdom    64.511\n",
       "Name: G7 Country Pop In Milion, dtype: float64"
      ]
     },
     "execution_count": 26,
     "metadata": {},
     "output_type": "execute_result"
    }
   ],
   "source": [
    "g72[~(g72 > 70)]"
   ]
  },
  {
   "cell_type": "code",
   "execution_count": 29,
   "id": "d2cd8b83-0e20-495e-a5b4-301dd9e0eb5a",
   "metadata": {
    "tags": []
   },
   "outputs": [
    {
     "data": {
      "text/plain": [
       "count      7.000000\n",
       "mean     107.302571\n",
       "std       97.249970\n",
       "min       35.467000\n",
       "25%       62.308000\n",
       "50%       64.511000\n",
       "75%      104.000500\n",
       "max      318.523000\n",
       "Name: G7 Country Pop In Milion, dtype: float64"
      ]
     },
     "execution_count": 29,
     "metadata": {},
     "output_type": "execute_result"
    }
   ],
   "source": [
    "g72.describe()"
   ]
  },
  {
   "cell_type": "code",
   "execution_count": 30,
   "id": "c1695b0a-2cfb-49df-87d0-ab6efe9c8bd8",
   "metadata": {
    "tags": []
   },
   "outputs": [
    {
     "data": {
      "text/plain": [
       "107.30257142857144"
      ]
     },
     "execution_count": 30,
     "metadata": {},
     "output_type": "execute_result"
    }
   ],
   "source": [
    "g72.mean()"
   ]
  },
  {
   "cell_type": "code",
   "execution_count": 31,
   "id": "7182e3d5-57da-4adf-a5e2-207f9c131a2d",
   "metadata": {
    "tags": []
   },
   "outputs": [
    {
     "data": {
      "text/plain": [
       "97.24996987121581"
      ]
     },
     "execution_count": 31,
     "metadata": {},
     "output_type": "execute_result"
    }
   ],
   "source": [
    "g72.std()"
   ]
  },
  {
   "cell_type": "code",
   "execution_count": 32,
   "id": "59a8b17f-801e-45f0-9e67-1916ecb9d6f3",
   "metadata": {
    "tags": []
   },
   "outputs": [
    {
     "data": {
      "text/plain": [
       "9457.556639952383"
      ]
     },
     "execution_count": 32,
     "metadata": {},
     "output_type": "execute_result"
    }
   ],
   "source": [
    "g72.var()"
   ]
  },
  {
   "cell_type": "code",
   "execution_count": 33,
   "id": "9717d2f5-3f8e-406a-9052-32b637450f14",
   "metadata": {
    "tags": []
   },
   "outputs": [
    {
     "data": {
      "text/plain": [
       "751.118"
      ]
     },
     "execution_count": 33,
     "metadata": {},
     "output_type": "execute_result"
    }
   ],
   "source": [
    "g72.sum()"
   ]
  },
  {
   "cell_type": "code",
   "execution_count": 36,
   "id": "6670c485-645e-4fe8-8331-8d1de14b572b",
   "metadata": {
    "tags": []
   },
   "outputs": [
    {
     "data": {
      "text/plain": [
       "Canada             3546.7\n",
       "France             6395.1\n",
       "Germany            8094.0\n",
       "Italy              6066.5\n",
       "Japan             12706.1\n",
       "United Kingdom     6451.1\n",
       "United States     31852.3\n",
       "Name: G7 Country Pop In Milion, dtype: float64"
      ]
     },
     "execution_count": 36,
     "metadata": {},
     "output_type": "execute_result"
    }
   ],
   "source": [
    "g72*1_00"
   ]
  },
  {
   "cell_type": "code",
   "execution_count": 35,
   "id": "977c4700-a371-4ded-95a9-557fe967d015",
   "metadata": {
    "tags": []
   },
   "outputs": [
    {
     "data": {
      "text/plain": [
       "Canada             35467000.0\n",
       "France             63951000.0\n",
       "Germany            80940000.0\n",
       "Italy              60665000.0\n",
       "Japan             127061000.0\n",
       "United Kingdom     64511000.0\n",
       "United States     318523000.0\n",
       "Name: G7 Country Pop In Milion, dtype: float64"
      ]
     },
     "execution_count": 35,
     "metadata": {},
     "output_type": "execute_result"
    }
   ],
   "source": [
    "g72*1_000_000"
   ]
  },
  {
   "cell_type": "code",
   "execution_count": 37,
   "id": "687185eb-09c9-4eee-b0c4-573ea223194d",
   "metadata": {
    "tags": []
   },
   "outputs": [
    {
     "data": {
      "text/plain": [
       "Canada            3.568603\n",
       "France            4.158117\n",
       "Germany           4.393708\n",
       "Italy             4.105367\n",
       "Japan             4.844667\n",
       "United Kingdom    4.166836\n",
       "United States     5.763695\n",
       "Name: G7 Country Pop In Milion, dtype: float64"
      ]
     },
     "execution_count": 37,
     "metadata": {},
     "output_type": "execute_result"
    }
   ],
   "source": [
    "np.log(g72)"
   ]
  },
  {
   "cell_type": "code",
   "execution_count": 38,
   "id": "73d19223-df62-45d8-b5b4-0092f0a2f842",
   "metadata": {
    "tags": []
   },
   "outputs": [
    {
     "data": {
      "text/plain": [
       "Canada            5.148405\n",
       "France            5.998895\n",
       "Germany           6.338781\n",
       "Italy             5.922793\n",
       "Japan             6.989377\n",
       "United Kingdom    6.011473\n",
       "United States     8.315254\n",
       "Name: G7 Country Pop In Milion, dtype: float64"
      ]
     },
     "execution_count": 38,
     "metadata": {},
     "output_type": "execute_result"
    }
   ],
   "source": [
    "np.log2(g72)"
   ]
  },
  {
   "cell_type": "code",
   "execution_count": 40,
   "id": "7ca347cf-c2e7-4985-b86d-cffb206dfddc",
   "metadata": {
    "tags": []
   },
   "outputs": [],
   "source": [
    "g72['Canada'] = 40"
   ]
  },
  {
   "cell_type": "code",
   "execution_count": 41,
   "id": "e4f14232-e246-4c84-af36-4478f619d8a9",
   "metadata": {
    "tags": []
   },
   "outputs": [
    {
     "data": {
      "text/plain": [
       "40.0"
      ]
     },
     "execution_count": 41,
     "metadata": {},
     "output_type": "execute_result"
    }
   ],
   "source": [
    "g72['Canada']"
   ]
  },
  {
   "cell_type": "code",
   "execution_count": 42,
   "id": "41b55542-def5-4469-979b-c940e6668048",
   "metadata": {
    "tags": []
   },
   "outputs": [],
   "source": [
    "g72['Bangladesh'] = 50"
   ]
  },
  {
   "cell_type": "code",
   "execution_count": 43,
   "id": "75624358-a211-4af0-8c0e-191f282cd1e8",
   "metadata": {
    "tags": []
   },
   "outputs": [
    {
     "data": {
      "text/plain": [
       "Canada             40.000\n",
       "France             63.951\n",
       "Germany            80.940\n",
       "Italy              60.665\n",
       "Japan             127.061\n",
       "United Kingdom     64.511\n",
       "United States     318.523\n",
       "Bangladesh         50.000\n",
       "Name: G7 Country Pop In Milion, dtype: float64"
      ]
     },
     "execution_count": 43,
     "metadata": {},
     "output_type": "execute_result"
    }
   ],
   "source": [
    "g72"
   ]
  },
  {
   "cell_type": "markdown",
   "id": "b62238e5-c314-4b42-a7ce-6285cf1336f5",
   "metadata": {},
   "source": [
    "### Do The Home Work"
   ]
  }
 ],
 "metadata": {
  "kernelspec": {
   "display_name": "Python 3 (ipykernel)",
   "language": "python",
   "name": "python3"
  },
  "language_info": {
   "codemirror_mode": {
    "name": "ipython",
    "version": 3
   },
   "file_extension": ".py",
   "mimetype": "text/x-python",
   "name": "python",
   "nbconvert_exporter": "python",
   "pygments_lexer": "ipython3",
   "version": "3.11.2"
  }
 },
 "nbformat": 4,
 "nbformat_minor": 5
}
