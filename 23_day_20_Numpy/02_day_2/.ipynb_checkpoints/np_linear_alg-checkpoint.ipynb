{
 "cells": [
  {
   "cell_type": "markdown",
   "id": "6fe1a9d7-baf5-4a1d-9d66-045a30fde513",
   "metadata": {},
   "source": [
    "# Linear Algebra"
   ]
  },
  {
   "cell_type": "code",
   "execution_count": 1,
   "id": "1a552a82-2bba-46dd-900b-ae6a03ee6eea",
   "metadata": {
    "tags": []
   },
   "outputs": [],
   "source": [
    "import numpy as np"
   ]
  },
  {
   "cell_type": "code",
   "execution_count": 2,
   "id": "49e61067-4b7c-4095-9bca-114860b25ed8",
   "metadata": {
    "tags": []
   },
   "outputs": [
    {
     "data": {
      "text/plain": [
       "(array([[16, 45, 36],\n",
       "        [51, 55, 91],\n",
       "        [88, 82, 54]]),\n",
       " array([[98, 89, 46],\n",
       "        [32, 78, 20],\n",
       "        [31, 59, 60]]))"
      ]
     },
     "execution_count": 2,
     "metadata": {},
     "output_type": "execute_result"
    }
   ],
   "source": [
    "A = np.random.randint(1,101,9).reshape(3,3)\n",
    "B = np.random.randint(1,101,9).reshape(3,3)\n",
    "A,B"
   ]
  },
  {
   "cell_type": "code",
   "execution_count": 3,
   "id": "64842497-e836-46b2-8ded-c28835b2c9c8",
   "metadata": {
    "tags": []
   },
   "outputs": [
    {
     "data": {
      "text/plain": [
       "array([[ 4124,  7058,  3796],\n",
       "       [ 9579, 14198,  8906],\n",
       "       [12922, 17414,  8928]])"
      ]
     },
     "execution_count": 3,
     "metadata": {},
     "output_type": "execute_result"
    }
   ],
   "source": [
    "A.dot(B)"
   ]
  },
  {
   "cell_type": "markdown",
   "id": "6ccaf51a-cf7e-4faa-84dc-21c6137a2937",
   "metadata": {},
   "source": [
    "### What is a view?"
   ]
  },
  {
   "cell_type": "code",
   "execution_count": 6,
   "id": "f1fa358c-8b00-4425-95f6-9a57c17f1f00",
   "metadata": {
    "tags": []
   },
   "outputs": [
    {
     "data": {
      "text/plain": [
       "array([[20, 49, 40],\n",
       "       [55, 59, 95],\n",
       "       [92, 86, 58]])"
      ]
     },
     "execution_count": 6,
     "metadata": {},
     "output_type": "execute_result"
    }
   ],
   "source": [
    "A+4"
   ]
  },
  {
   "cell_type": "code",
   "execution_count": 7,
   "id": "722cb345-2292-4d21-945b-695648c6bb97",
   "metadata": {
    "tags": []
   },
   "outputs": [
    {
     "data": {
      "text/plain": [
       "array([[16, 45, 36],\n",
       "       [51, 55, 91],\n",
       "       [88, 82, 54]])"
      ]
     },
     "execution_count": 7,
     "metadata": {},
     "output_type": "execute_result"
    }
   ],
   "source": [
    "A"
   ]
  },
  {
   "cell_type": "code",
   "execution_count": 8,
   "id": "fdabbaf1-8262-4a2d-8c4e-15beb62760d5",
   "metadata": {
    "tags": []
   },
   "outputs": [
    {
     "data": {
      "text/plain": [
       "array([[ 4124,  7058,  3796],\n",
       "       [ 9579, 14198,  8906],\n",
       "       [12922, 17414,  8928]])"
      ]
     },
     "execution_count": 8,
     "metadata": {},
     "output_type": "execute_result"
    }
   ],
   "source": [
    "np.matmul(A,B)"
   ]
  },
  {
   "cell_type": "code",
   "execution_count": 9,
   "id": "35db94a8-8f6f-43e2-94de-9d3133efaa18",
   "metadata": {
    "tags": []
   },
   "outputs": [
    {
     "data": {
      "text/plain": [
       "array([[ 4124,  7058,  3796],\n",
       "       [ 9579, 14198,  8906],\n",
       "       [12922, 17414,  8928]])"
      ]
     },
     "execution_count": 9,
     "metadata": {},
     "output_type": "execute_result"
    }
   ],
   "source": [
    "A @ B"
   ]
  },
  {
   "cell_type": "code",
   "execution_count": 10,
   "id": "0ee352c4-6e92-48d7-a1c7-d71f77ec2596",
   "metadata": {
    "tags": []
   },
   "outputs": [],
   "source": [
    "C = np.random.randint(1,101,6).reshape(2,3)"
   ]
  },
  {
   "cell_type": "code",
   "execution_count": 11,
   "id": "c8bff63a-3e7e-4348-9093-b4a5b93104bd",
   "metadata": {
    "tags": []
   },
   "outputs": [
    {
     "data": {
      "text/plain": [
       "array([[71, 27, 73],\n",
       "       [26,  6, 52]])"
      ]
     },
     "execution_count": 11,
     "metadata": {},
     "output_type": "execute_result"
    }
   ],
   "source": [
    "C"
   ]
  },
  {
   "cell_type": "code",
   "execution_count": 15,
   "id": "1558c806-198e-4d99-9bd8-636bf8cf488a",
   "metadata": {
    "tags": []
   },
   "outputs": [
    {
     "data": {
      "text/plain": [
       "array([[ 4637,  3474],\n",
       "       [ 8182,  7539],\n",
       "       [12558,  7316]])"
      ]
     },
     "execution_count": 15,
     "metadata": {},
     "output_type": "execute_result"
    }
   ],
   "source": [
    "A.dot(C.reshape(3,2))"
   ]
  },
  {
   "cell_type": "code",
   "execution_count": 17,
   "id": "ba9aae7f-fdc9-494b-a669-c9847ca07d50",
   "metadata": {
    "tags": []
   },
   "outputs": [],
   "source": [
    "mask = A >30"
   ]
  },
  {
   "cell_type": "code",
   "execution_count": 18,
   "id": "2f3ffe40-3dbb-4772-a8a0-0c7a672bb971",
   "metadata": {
    "tags": []
   },
   "outputs": [
    {
     "data": {
      "text/plain": [
       "array([45, 36, 51, 55, 91, 88, 82, 54])"
      ]
     },
     "execution_count": 18,
     "metadata": {},
     "output_type": "execute_result"
    }
   ],
   "source": [
    "A[mask]"
   ]
  },
  {
   "cell_type": "code",
   "execution_count": 19,
   "id": "83e2b844-8aa5-4709-909e-ecf6884a88d0",
   "metadata": {
    "tags": []
   },
   "outputs": [
    {
     "data": {
      "text/plain": [
       "array([45, 36, 51, 55, 91, 88, 82, 54])"
      ]
     },
     "execution_count": 19,
     "metadata": {},
     "output_type": "execute_result"
    }
   ],
   "source": [
    "A[A > 30]"
   ]
  },
  {
   "cell_type": "code",
   "execution_count": 20,
   "id": "dfdec9ff-33a4-4d0d-be77-b1a54e67d75d",
   "metadata": {
    "tags": []
   },
   "outputs": [
    {
     "data": {
      "text/plain": [
       "array([[98, 89, 46],\n",
       "       [32, 78, 20],\n",
       "       [31, 59, 60]])"
      ]
     },
     "execution_count": 20,
     "metadata": {},
     "output_type": "execute_result"
    }
   ],
   "source": [
    "B"
   ]
  },
  {
   "cell_type": "code",
   "execution_count": 21,
   "id": "9ac8ca50-c345-4a1f-90d6-53f7dd11ce45",
   "metadata": {
    "tags": []
   },
   "outputs": [
    {
     "data": {
      "text/plain": [
       "array([[98, 32, 31],\n",
       "       [89, 78, 59],\n",
       "       [46, 20, 60]])"
      ]
     },
     "execution_count": 21,
     "metadata": {},
     "output_type": "execute_result"
    }
   ],
   "source": [
    "B.T"
   ]
  },
  {
   "cell_type": "code",
   "execution_count": 28,
   "id": "0fd97626-5606-4344-a04a-8bd5685b4490",
   "metadata": {
    "tags": []
   },
   "outputs": [],
   "source": [
    "X = np.random.randint(1,100,400,dtype=np.int8).reshape(20,20)"
   ]
  },
  {
   "cell_type": "code",
   "execution_count": 23,
   "id": "e911c1db-b921-4219-bbd2-19bd2b1b2f05",
   "metadata": {
    "tags": []
   },
   "outputs": [
    {
     "data": {
      "text/plain": [
       "array([[29, 16, 43, 58,  2, 63, 20, 57, 60, 41,  9, 13, 98,  5, 61,  3,\n",
       "        23,  7, 49,  3],\n",
       "       [56, 64,  6, 94,  9, 43,  7, 26, 74, 76, 56, 88, 80, 40, 30, 29,\n",
       "        65, 53, 64, 70],\n",
       "       [44, 85, 89, 45, 70, 38,  8, 92, 25, 64, 82, 60, 39, 13,  4, 86,\n",
       "         8, 44, 90, 50],\n",
       "       [62, 42, 45, 90, 54, 19, 39, 64, 65, 98, 34, 81, 96, 35, 67, 89,\n",
       "         9, 87, 16, 18],\n",
       "       [23, 17,  7, 19, 19, 56, 61, 46, 58, 31, 63, 91, 84, 20, 38, 16,\n",
       "        45,  6, 87, 15],\n",
       "       [53,  3, 20, 14, 54, 24, 83, 24, 26, 98, 11, 53, 85, 19, 58, 28,\n",
       "         3,  9, 26, 89],\n",
       "       [62, 52, 30, 42,  8, 70, 44, 86, 34, 52, 62, 20, 91, 80, 63, 88,\n",
       "        80, 13, 18, 92],\n",
       "       [30,  5, 34, 97, 50, 89, 69, 82, 42, 28, 90, 81, 35, 98,  5, 66,\n",
       "        85, 56, 38, 40],\n",
       "       [60, 59, 12, 15,  1, 36, 22, 33, 63, 55,  9, 45, 11, 12, 74, 63,\n",
       "        57, 94, 58, 79],\n",
       "       [48, 74, 42, 78, 69,  6, 39, 94, 83, 68, 66, 63, 49, 98, 85, 29,\n",
       "        65, 23,  9, 78],\n",
       "       [80, 38, 51, 57, 59,  2, 12,  1,  2, 41,  9, 20, 65, 80, 26, 26,\n",
       "        14, 91, 50, 26],\n",
       "       [80, 98, 53, 13, 97, 91, 15, 52, 52, 10, 97, 41, 36,  9, 18, 98,\n",
       "         7, 74, 16, 98],\n",
       "       [79, 36, 78, 22, 98, 30, 58, 50, 45,  7, 34, 16, 75, 67, 30, 34,\n",
       "        90, 54, 13,  1],\n",
       "       [39, 22, 21, 66, 77,  1,  8, 98, 32, 39, 45, 16, 90, 35, 97,  6,\n",
       "        20, 20, 57, 84],\n",
       "       [32, 36,  9, 61, 87,  6, 82, 50,  7, 77, 62, 14, 26, 94, 77, 60,\n",
       "        49, 75, 71, 11],\n",
       "       [85, 49, 10, 85, 74, 80, 55, 32, 89, 88, 65, 72, 75, 57, 43, 21,\n",
       "        94, 38, 37, 85],\n",
       "       [38, 41,  9, 84, 98, 76, 66, 45, 89, 38, 33, 37,  9, 18,  1,  7,\n",
       "        83, 44, 41, 59],\n",
       "       [55, 90, 12, 76, 69, 79, 38, 71, 19, 64, 23, 23, 19, 13, 98, 75,\n",
       "        92, 94,  8, 59],\n",
       "       [68, 63, 51, 45, 28, 41, 76, 86, 37, 97, 50, 37, 55, 72, 65, 47,\n",
       "        89, 93, 58, 97],\n",
       "       [81, 19, 69, 84, 64, 87, 63, 26, 85, 91, 72, 32, 27, 43,  5, 94,\n",
       "        82, 71, 73,  7]])"
      ]
     },
     "execution_count": 23,
     "metadata": {},
     "output_type": "execute_result"
    }
   ],
   "source": [
    "X.T"
   ]
  },
  {
   "cell_type": "code",
   "execution_count": 29,
   "id": "d37dc593-b14e-416c-bc2d-dd2024c7c946",
   "metadata": {
    "tags": []
   },
   "outputs": [
    {
     "data": {
      "text/plain": [
       "128"
      ]
     },
     "execution_count": 29,
     "metadata": {},
     "output_type": "execute_result"
    }
   ],
   "source": [
    "import sys\n",
    "sys.getsizeof(X)"
   ]
  },
  {
   "cell_type": "code",
   "execution_count": 30,
   "id": "e1ab2b64-82dd-42e7-9bd9-d53017524d63",
   "metadata": {
    "tags": []
   },
   "outputs": [
    {
     "data": {
      "text/plain": [
       "216"
      ]
     },
     "execution_count": 30,
     "metadata": {},
     "output_type": "execute_result"
    }
   ],
   "source": [
    "X2 = list(X)\n",
    "sys.getsizeof(X2)"
   ]
  },
  {
   "cell_type": "code",
   "execution_count": 31,
   "id": "7686f7dc-70fb-4f23-944f-a5e10c84990e",
   "metadata": {
    "tags": []
   },
   "outputs": [
    {
     "data": {
      "text/plain": [
       "array([[ 5928,  8712,  8114],\n",
       "       [10594, 13133, 13488],\n",
       "       [ 7036,  8090,  6716]])"
      ]
     },
     "execution_count": 31,
     "metadata": {},
     "output_type": "execute_result"
    }
   ],
   "source": [
    "B.T @ A"
   ]
  },
  {
   "cell_type": "markdown",
   "id": "1b56d7b2-2bb0-4592-ac39-29db95187d4e",
   "metadata": {},
   "source": [
    "np.linalg -- https://numpy.org/doc/stable/reference/routines.linalg.html </br>\n",
    "scipy.inalg -- https://docs.scipy.org/doc/scipy/reference/linalg.html"
   ]
  },
  {
   "cell_type": "code",
   "execution_count": 32,
   "id": "9915f7a3-bcf3-4eb6-b2f0-02635f3c9da8",
   "metadata": {
    "tags": []
   },
   "outputs": [],
   "source": [
    "from numpy import linalg as alg"
   ]
  },
  {
   "cell_type": "code",
   "execution_count": 33,
   "id": "bcda289e-ecf2-44f8-a794-b1015e25ca6f",
   "metadata": {
    "tags": []
   },
   "outputs": [
    {
     "data": {
      "text/plain": [
       "(array([176.15277624 +0.j        , -25.57638812+12.06448996j,\n",
       "        -25.57638812-12.06448996j]),\n",
       " array([[ 0.3359885 +0.j        ,  0.26676054+0.31120354j,\n",
       "          0.26676054-0.31120354j],\n",
       "        [ 0.65198825+0.j        , -0.72109167+0.j        ,\n",
       "         -0.72109167-0.j        ],\n",
       "        [ 0.67972278+0.j        ,  0.48899093-0.27001081j,\n",
       "          0.48899093+0.27001081j]]))"
      ]
     },
     "execution_count": 33,
     "metadata": {},
     "output_type": "execute_result"
    }
   ],
   "source": [
    "alg.eig(A)"
   ]
  },
  {
   "cell_type": "code",
   "execution_count": 34,
   "id": "681f16c1-c55b-402e-a234-7b625b71285b",
   "metadata": {
    "tags": []
   },
   "outputs": [
    {
     "data": {
      "text/plain": [
       "140870.0000000001"
      ]
     },
     "execution_count": 34,
     "metadata": {},
     "output_type": "execute_result"
    }
   ],
   "source": [
    "alg.det(A)"
   ]
  },
  {
   "cell_type": "code",
   "execution_count": 35,
   "id": "0cf4c939-5a96-46bb-98f3-9292b394b347",
   "metadata": {
    "tags": []
   },
   "outputs": [],
   "source": [
    "x = np.array([1,2,3])"
   ]
  },
  {
   "cell_type": "code",
   "execution_count": 36,
   "id": "19028744-f20c-447f-a515-2883122bfbc7",
   "metadata": {
    "tags": []
   },
   "outputs": [
    {
     "data": {
      "text/plain": [
       "3.7416573867739413"
      ]
     },
     "execution_count": 36,
     "metadata": {},
     "output_type": "execute_result"
    }
   ],
   "source": [
    "alg.norm(x)"
   ]
  },
  {
   "cell_type": "code",
   "execution_count": 37,
   "id": "2aff5767-6b66-42b9-a30b-0246a856b0db",
   "metadata": {
    "tags": []
   },
   "outputs": [
    {
     "data": {
      "text/plain": [
       "array([1.        , 1.41421356, 1.73205081])"
      ]
     },
     "execution_count": 37,
     "metadata": {},
     "output_type": "execute_result"
    }
   ],
   "source": [
    "np.sqrt(x)"
   ]
  },
  {
   "cell_type": "code",
   "execution_count": 38,
   "id": "3ae4df17-3c36-4819-acd3-e5c821a9fdbd",
   "metadata": {
    "tags": []
   },
   "outputs": [
    {
     "data": {
      "text/plain": [
       "3.7416573867739413"
      ]
     },
     "execution_count": 38,
     "metadata": {},
     "output_type": "execute_result"
    }
   ],
   "source": [
    "np.sqrt(sum(x**2))"
   ]
  },
  {
   "cell_type": "code",
   "execution_count": 39,
   "id": "1f8c437c-0f2d-47f9-8ee7-e7b1863eb80d",
   "metadata": {
    "tags": []
   },
   "outputs": [
    {
     "data": {
      "text/plain": [
       "3"
      ]
     },
     "execution_count": 39,
     "metadata": {},
     "output_type": "execute_result"
    }
   ],
   "source": [
    "alg.matrix_rank(A)"
   ]
  },
  {
   "cell_type": "code",
   "execution_count": 42,
   "id": "5777fd8f-2d45-4f41-b49b-4a4795b75f5f",
   "metadata": {
    "tags": []
   },
   "outputs": [],
   "source": [
    "XX = np.array(\n",
    "    [[1,2,3],\n",
    "    [2,4,6]]\n",
    ")"
   ]
  },
  {
   "cell_type": "code",
   "execution_count": 43,
   "id": "f676ed97-9f75-4a31-af86-3ec98f2d0ee2",
   "metadata": {
    "tags": []
   },
   "outputs": [
    {
     "data": {
      "text/plain": [
       "1"
      ]
     },
     "execution_count": 43,
     "metadata": {},
     "output_type": "execute_result"
    }
   ],
   "source": [
    "alg.matrix_rank(XX)"
   ]
  },
  {
   "cell_type": "code",
   "execution_count": 44,
   "id": "9d967d7c-fe40-49ca-8f54-f7017a71166a",
   "metadata": {
    "tags": []
   },
   "outputs": [
    {
     "data": {
      "text/plain": [
       "array([[0.97302439, 0.39225127, 0.22589779, 0.11397759],\n",
       "       [0.64350489, 0.75397345, 0.38654432, 0.05266624]])"
      ]
     },
     "execution_count": 44,
     "metadata": {},
     "output_type": "execute_result"
    }
   ],
   "source": [
    "np.random.rand(2, 4)"
   ]
  },
  {
   "cell_type": "code",
   "execution_count": 46,
   "id": "46987d76-e8d4-4dfd-b7b1-81562cac9d14",
   "metadata": {
    "tags": []
   },
   "outputs": [
    {
     "data": {
      "text/plain": [
       "array([0.27007611, 0.28164828])"
      ]
     },
     "execution_count": 46,
     "metadata": {},
     "output_type": "execute_result"
    }
   ],
   "source": [
    "np.random.random(2)"
   ]
  },
  {
   "cell_type": "code",
   "execution_count": 49,
   "id": "a2be7a0d-dde6-4190-9c57-52efa1ac6e63",
   "metadata": {
    "tags": []
   },
   "outputs": [
    {
     "data": {
      "text/plain": [
       "array([29.81531953, 27.90607563, 31.61211146, 32.35018916, 34.30800534,\n",
       "       24.149375  , 29.74450912, 26.11493729, 24.61837118, 30.84847168])"
      ]
     },
     "execution_count": 49,
     "metadata": {},
     "output_type": "execute_result"
    }
   ],
   "source": [
    "np.random.normal(30,3,100)[:10]"
   ]
  },
  {
   "cell_type": "code",
   "execution_count": 50,
   "id": "ee37e33a-4d88-416e-9d41-f65c163e5d59",
   "metadata": {
    "tags": []
   },
   "outputs": [
    {
     "data": {
      "text/plain": [
       "array([ 0,  1,  2,  3,  4,  5,  6,  7,  8,  9, 10, 11, 12, 13, 14, 15, 16,\n",
       "       17, 18, 19, 20, 21, 22, 23, 24, 25, 26, 27, 28, 29, 30, 31, 32, 33,\n",
       "       34, 35, 36, 37, 38, 39, 40, 41, 42, 43, 44, 45, 46, 47, 48, 49, 50,\n",
       "       51, 52, 53, 54, 55, 56, 57, 58, 59, 60, 61, 62, 63, 64, 65, 66, 67,\n",
       "       68, 69, 70, 71, 72, 73, 74, 75, 76, 77, 78, 79, 80, 81, 82, 83, 84,\n",
       "       85, 86, 87, 88, 89, 90, 91, 92, 93, 94, 95, 96, 97, 98, 99])"
      ]
     },
     "execution_count": 50,
     "metadata": {},
     "output_type": "execute_result"
    }
   ],
   "source": [
    "np.arange(100)"
   ]
  },
  {
   "cell_type": "code",
   "execution_count": 51,
   "id": "c75bcc48-0f3a-4b82-8493-5b986643c9bd",
   "metadata": {
    "tags": []
   },
   "outputs": [
    {
     "data": {
      "text/plain": [
       "array([10, 11, 12, 13, 14, 15, 16, 17, 18, 19, 20, 21, 22, 23, 24])"
      ]
     },
     "execution_count": 51,
     "metadata": {},
     "output_type": "execute_result"
    }
   ],
   "source": [
    "np.arange(10,25)"
   ]
  },
  {
   "cell_type": "code",
   "execution_count": 52,
   "id": "10dffb7d-902e-4a2f-8425-7ff1136f436d",
   "metadata": {
    "tags": []
   },
   "outputs": [
    {
     "data": {
      "text/plain": [
       "array([10, 12, 14, 16, 18, 20, 22, 24])"
      ]
     },
     "execution_count": 52,
     "metadata": {},
     "output_type": "execute_result"
    }
   ],
   "source": [
    "np.arange(10,25,2)"
   ]
  },
  {
   "cell_type": "code",
   "execution_count": 53,
   "id": "f3855c65-a03e-4c11-8688-43a29111b941",
   "metadata": {
    "tags": []
   },
   "outputs": [
    {
     "data": {
      "text/plain": [
       "array([10, 13, 16, 19, 22])"
      ]
     },
     "execution_count": 53,
     "metadata": {},
     "output_type": "execute_result"
    }
   ],
   "source": [
    "np.arange(10,25,3)"
   ]
  },
  {
   "cell_type": "code",
   "execution_count": 55,
   "id": "5c7b1787-0ee8-4eb1-99f9-c619e03dbfe2",
   "metadata": {
    "tags": []
   },
   "outputs": [
    {
     "data": {
      "text/plain": [
       "40"
      ]
     },
     "execution_count": 55,
     "metadata": {},
     "output_type": "execute_result"
    }
   ],
   "source": [
    "np.arange(1,5,.1).size"
   ]
  },
  {
   "cell_type": "code",
   "execution_count": 57,
   "id": "5ede50b8-56c1-4afe-b90a-7b36116f019c",
   "metadata": {
    "tags": []
   },
   "outputs": [
    {
     "data": {
      "text/plain": [
       "array([[16, 45, 36],\n",
       "       [51, 55, 91],\n",
       "       [88, 82, 54]])"
      ]
     },
     "execution_count": 57,
     "metadata": {},
     "output_type": "execute_result"
    }
   ],
   "source": [
    "A"
   ]
  },
  {
   "cell_type": "code",
   "execution_count": 59,
   "id": "64510f50-b96f-4885-9ce0-2511d82af256",
   "metadata": {
    "tags": []
   },
   "outputs": [
    {
     "data": {
      "text/plain": [
       "array([[16, 45, 36, 51, 55, 91, 88, 82, 54]])"
      ]
     },
     "execution_count": 59,
     "metadata": {},
     "output_type": "execute_result"
    }
   ],
   "source": [
    "A.reshape(1,9)"
   ]
  },
  {
   "cell_type": "code",
   "execution_count": 60,
   "id": "56c7b905-fc67-439e-ab01-dafcbe6d4b33",
   "metadata": {
    "tags": []
   },
   "outputs": [
    {
     "data": {
      "text/plain": [
       "array([[16],\n",
       "       [45],\n",
       "       [36],\n",
       "       [51],\n",
       "       [55],\n",
       "       [91],\n",
       "       [88],\n",
       "       [82],\n",
       "       [54]])"
      ]
     },
     "execution_count": 60,
     "metadata": {},
     "output_type": "execute_result"
    }
   ],
   "source": [
    "A.reshape(9,1)"
   ]
  },
  {
   "cell_type": "code",
   "execution_count": 61,
   "id": "2b91c324-897b-472d-82e1-f27905b5a7b1",
   "metadata": {
    "tags": []
   },
   "outputs": [
    {
     "data": {
      "text/plain": [
       "9"
      ]
     },
     "execution_count": 61,
     "metadata": {},
     "output_type": "execute_result"
    }
   ],
   "source": [
    "B.size"
   ]
  },
  {
   "cell_type": "code",
   "execution_count": 62,
   "id": "b968d37e-1fd2-4ee3-ac1f-bafb47311068",
   "metadata": {
    "tags": []
   },
   "outputs": [
    {
     "data": {
      "text/plain": [
       "6"
      ]
     },
     "execution_count": 62,
     "metadata": {},
     "output_type": "execute_result"
    }
   ],
   "source": [
    "C.size"
   ]
  },
  {
   "cell_type": "code",
   "execution_count": 63,
   "id": "e6b1873b-2ea9-45e5-a6c2-bbcd671eb06c",
   "metadata": {
    "tags": []
   },
   "outputs": [
    {
     "data": {
      "text/plain": [
       "(2, 3)"
      ]
     },
     "execution_count": 63,
     "metadata": {},
     "output_type": "execute_result"
    }
   ],
   "source": [
    "C.shape"
   ]
  },
  {
   "cell_type": "code",
   "execution_count": 64,
   "id": "6814ba23-7922-4aba-b7fc-8b51e7263e23",
   "metadata": {
    "tags": []
   },
   "outputs": [
    {
     "data": {
      "text/plain": [
       "array([[71, 27],\n",
       "       [73, 26],\n",
       "       [ 6, 52]])"
      ]
     },
     "execution_count": 64,
     "metadata": {},
     "output_type": "execute_result"
    }
   ],
   "source": [
    "C.reshape(3,2)"
   ]
  },
  {
   "cell_type": "code",
   "execution_count": 65,
   "id": "913e347e-efe0-4f0b-b0ee-bbe44f47ace0",
   "metadata": {
    "tags": []
   },
   "outputs": [
    {
     "data": {
      "text/plain": [
       "array([[71, 27, 73],\n",
       "       [26,  6, 52]])"
      ]
     },
     "execution_count": 65,
     "metadata": {},
     "output_type": "execute_result"
    }
   ],
   "source": [
    "C"
   ]
  },
  {
   "cell_type": "markdown",
   "id": "e8756c8f-5750-4eae-8da4-b6e62e499fbc",
   "metadata": {},
   "source": [
    "Linspace"
   ]
  },
  {
   "cell_type": "code",
   "execution_count": 66,
   "id": "3cf57cb0-7f26-4a41-93f8-093263515e4c",
   "metadata": {
    "tags": []
   },
   "outputs": [
    {
     "data": {
      "text/plain": [
       "array([  1.        ,   3.02040816,   5.04081633,   7.06122449,\n",
       "         9.08163265,  11.10204082,  13.12244898,  15.14285714,\n",
       "        17.16326531,  19.18367347,  21.20408163,  23.2244898 ,\n",
       "        25.24489796,  27.26530612,  29.28571429,  31.30612245,\n",
       "        33.32653061,  35.34693878,  37.36734694,  39.3877551 ,\n",
       "        41.40816327,  43.42857143,  45.44897959,  47.46938776,\n",
       "        49.48979592,  51.51020408,  53.53061224,  55.55102041,\n",
       "        57.57142857,  59.59183673,  61.6122449 ,  63.63265306,\n",
       "        65.65306122,  67.67346939,  69.69387755,  71.71428571,\n",
       "        73.73469388,  75.75510204,  77.7755102 ,  79.79591837,\n",
       "        81.81632653,  83.83673469,  85.85714286,  87.87755102,\n",
       "        89.89795918,  91.91836735,  93.93877551,  95.95918367,\n",
       "        97.97959184, 100.        ])"
      ]
     },
     "execution_count": 66,
     "metadata": {},
     "output_type": "execute_result"
    }
   ],
   "source": [
    "np.linspace(1,100,50)"
   ]
  },
  {
   "cell_type": "code",
   "execution_count": 69,
   "id": "9ea9c5d7-29f3-48ff-a765-7c1b5362b98e",
   "metadata": {
    "tags": []
   },
   "outputs": [],
   "source": [
    "x = np.linspace(4,5,1000)[:5]"
   ]
  },
  {
   "cell_type": "code",
   "execution_count": 72,
   "id": "089f0f82-e088-493b-9dae-80badc2f3eed",
   "metadata": {
    "tags": []
   },
   "outputs": [
    {
     "data": {
      "text/plain": [
       "0.0010010010010006454"
      ]
     },
     "execution_count": 72,
     "metadata": {},
     "output_type": "execute_result"
    }
   ],
   "source": [
    "x[1]-x[0]"
   ]
  },
  {
   "cell_type": "code",
   "execution_count": 74,
   "id": "1507bb8b-8117-43a6-8364-ad7568cac481",
   "metadata": {
    "tags": []
   },
   "outputs": [
    {
     "data": {
      "text/plain": [
       "0.0010010010010015336"
      ]
     },
     "execution_count": 74,
     "metadata": {},
     "output_type": "execute_result"
    }
   ],
   "source": [
    "x[2]-x[1]"
   ]
  },
  {
   "cell_type": "code",
   "execution_count": 75,
   "id": "fa04ea23-d797-4bc6-9b04-494cda1a83bc",
   "metadata": {
    "tags": []
   },
   "outputs": [
    {
     "data": {
      "text/plain": [
       "array([0.  , 0.05, 0.1 , 0.15, 0.2 , 0.25, 0.3 , 0.35, 0.4 , 0.45, 0.5 ,\n",
       "       0.55, 0.6 , 0.65, 0.7 , 0.75, 0.8 , 0.85, 0.9 , 0.95])"
      ]
     },
     "execution_count": 75,
     "metadata": {},
     "output_type": "execute_result"
    }
   ],
   "source": [
    "np.linspace(0, 1, 20, False)"
   ]
  },
  {
   "cell_type": "code",
   "execution_count": 76,
   "id": "1053249f-7bf5-42a0-a8ec-c38f27404854",
   "metadata": {
    "tags": []
   },
   "outputs": [
    {
     "data": {
      "text/plain": [
       "array([0., 0., 0., 0., 0., 0., 0., 0., 0., 0.])"
      ]
     },
     "execution_count": 76,
     "metadata": {},
     "output_type": "execute_result"
    }
   ],
   "source": [
    "np.zeros(10)"
   ]
  },
  {
   "cell_type": "code",
   "execution_count": 78,
   "id": "6e085991-6591-4fb3-a4c0-2d6c5d623187",
   "metadata": {
    "tags": []
   },
   "outputs": [
    {
     "data": {
      "text/plain": [
       "array([1, 1, 1, 1, 1, 1, 1, 1, 1, 1], dtype=int8)"
      ]
     },
     "execution_count": 78,
     "metadata": {},
     "output_type": "execute_result"
    }
   ],
   "source": [
    "np.ones(10,dtype=np.int8)"
   ]
  },
  {
   "cell_type": "code",
   "execution_count": 81,
   "id": "27a1de97-8c7a-40ff-818e-2cf93795b6f6",
   "metadata": {
    "tags": []
   },
   "outputs": [
    {
     "data": {
      "text/plain": [
       "array([[0, 0, 0, 0, 0, 0, 0, 0, 0]], dtype=int64)"
      ]
     },
     "execution_count": 81,
     "metadata": {},
     "output_type": "execute_result"
    }
   ],
   "source": [
    "np.zeros((3,3),dtype=np.int64).reshape(1,9)"
   ]
  },
  {
   "cell_type": "code",
   "execution_count": 82,
   "id": "fe81c31a-b21c-4f74-8b89-6a9bac0634f4",
   "metadata": {
    "tags": []
   },
   "outputs": [
    {
     "data": {
      "text/plain": [
       "128"
      ]
     },
     "execution_count": 82,
     "metadata": {},
     "output_type": "execute_result"
    }
   ],
   "source": [
    "2**7"
   ]
  },
  {
   "cell_type": "code",
   "execution_count": 83,
   "id": "fb572097-26a6-416c-92fc-4afbbf1e6951",
   "metadata": {
    "tags": []
   },
   "outputs": [],
   "source": [
    "name = None"
   ]
  },
  {
   "cell_type": "code",
   "execution_count": 85,
   "id": "886afa81-5d2a-49fe-87b1-c7bcc2c92592",
   "metadata": {
    "tags": []
   },
   "outputs": [
    {
     "data": {
      "text/plain": [
       "array([4.      , 4.001001, 4.002002, 4.003003, 4.004004])"
      ]
     },
     "execution_count": 85,
     "metadata": {},
     "output_type": "execute_result"
    }
   ],
   "source": [
    "np.empty(5)"
   ]
  },
  {
   "cell_type": "code",
   "execution_count": 86,
   "id": "db5a60c0-6261-4825-9981-1e0879d77643",
   "metadata": {
    "tags": []
   },
   "outputs": [
    {
     "data": {
      "text/plain": [
       "array([[1., 0., 0.],\n",
       "       [0., 1., 0.],\n",
       "       [0., 0., 1.]])"
      ]
     },
     "execution_count": 86,
     "metadata": {},
     "output_type": "execute_result"
    }
   ],
   "source": [
    "np.eye(3)"
   ]
  },
  {
   "cell_type": "code",
   "execution_count": 87,
   "id": "3f9c251c-887b-4704-ab18-6b132456c9c9",
   "metadata": {
    "tags": []
   },
   "outputs": [
    {
     "data": {
      "text/plain": [
       "array([[1., 0., 0.],\n",
       "       [0., 1., 0.],\n",
       "       [0., 0., 1.]])"
      ]
     },
     "execution_count": 87,
     "metadata": {},
     "output_type": "execute_result"
    }
   ],
   "source": [
    "np.identity(3)"
   ]
  },
  {
   "cell_type": "code",
   "execution_count": 88,
   "id": "c1a69807-f572-4551-8d2c-f9ae1a80eafe",
   "metadata": {
    "tags": []
   },
   "outputs": [
    {
     "data": {
      "text/plain": [
       "array([[1., 0., 0.],\n",
       "       [0., 1., 0.],\n",
       "       [0., 0., 1.]])"
      ]
     },
     "execution_count": 88,
     "metadata": {},
     "output_type": "execute_result"
    }
   ],
   "source": [
    "np.eye(3,3)"
   ]
  },
  {
   "cell_type": "code",
   "execution_count": 91,
   "id": "1fc9ceb7-ce67-4598-828b-80f8519ae5f0",
   "metadata": {
    "tags": []
   },
   "outputs": [
    {
     "data": {
      "text/plain": [
       "array([[0., 0., 0., 0.],\n",
       "       [1., 0., 0., 0.],\n",
       "       [0., 1., 0., 0.],\n",
       "       [0., 0., 1., 0.],\n",
       "       [0., 0., 0., 1.],\n",
       "       [0., 0., 0., 0.],\n",
       "       [0., 0., 0., 0.],\n",
       "       [0., 0., 0., 0.]])"
      ]
     },
     "execution_count": 91,
     "metadata": {},
     "output_type": "execute_result"
    }
   ],
   "source": [
    "np.eye(8,4,k=-1)"
   ]
  },
  {
   "cell_type": "code",
   "execution_count": 92,
   "id": "af0d5e3f-d256-4c0c-9956-ff1fffc598be",
   "metadata": {
    "tags": []
   },
   "outputs": [
    {
     "data": {
      "text/plain": [
       "array([[1., 0., 0., 0.],\n",
       "       [0., 1., 0., 0.],\n",
       "       [0., 0., 1., 0.],\n",
       "       [0., 0., 0., 1.],\n",
       "       [0., 0., 0., 0.],\n",
       "       [0., 0., 0., 0.],\n",
       "       [0., 0., 0., 0.],\n",
       "       [0., 0., 0., 0.]])"
      ]
     },
     "execution_count": 92,
     "metadata": {},
     "output_type": "execute_result"
    }
   ],
   "source": [
    "np.eye(8,4)"
   ]
  },
  {
   "cell_type": "code",
   "execution_count": 93,
   "id": "6a847292-45b0-4003-9b48-7ad40a6de347",
   "metadata": {
    "tags": []
   },
   "outputs": [
    {
     "data": {
      "text/plain": [
       "array([[16, 45, 36],\n",
       "       [51, 55, 91],\n",
       "       [88, 82, 54]])"
      ]
     },
     "execution_count": 93,
     "metadata": {},
     "output_type": "execute_result"
    }
   ],
   "source": [
    "A"
   ]
  },
  {
   "cell_type": "markdown",
   "id": "de44c36c-cc76-4872-9d49-144bd66c944c",
   "metadata": {},
   "source": [
    "Ax = $\\lambda x$ </br>  Ax-$\\lambda I x$ = 0"
   ]
  },
  {
   "cell_type": "markdown",
   "id": "c7a6d6df-021f-4214-8e64-96cf1519025f",
   "metadata": {},
   "source": [
    "\"Hello world\"[6]"
   ]
  },
  {
   "cell_type": "code",
   "execution_count": 94,
   "id": "67d42318-2711-4dbb-a0c6-959b98c9ff5a",
   "metadata": {
    "tags": []
   },
   "outputs": [
    {
     "data": {
      "text/plain": [
       "'w'"
      ]
     },
     "execution_count": 94,
     "metadata": {},
     "output_type": "execute_result"
    }
   ],
   "source": [
    "\"Hello world\"[6]"
   ]
  },
  {
   "cell_type": "code",
   "execution_count": 95,
   "id": "a6977b27-170d-4730-b09a-552e2d4fa9c6",
   "metadata": {
    "tags": []
   },
   "outputs": [
    {
     "data": {
      "text/plain": [
       "(array([[-0.31254572, -0.18306207, -0.93209627],\n",
       "        [-0.63062949, -0.69382522,  0.34772548],\n",
       "        [-0.71036724,  0.6964875 ,  0.10140777]]),\n",
       " array([181.19801219,  40.91803893,  18.99985447]),\n",
       " array([[-0.55008966, -0.5905103 , -0.59050736],\n",
       "        [ 0.5615328 ,  0.2618355 , -0.78493508],\n",
       "        [ 0.61812805, -0.76337393,  0.1875579 ]]))"
      ]
     },
     "execution_count": 95,
     "metadata": {},
     "output_type": "execute_result"
    }
   ],
   "source": [
    "np.linalg.svd(A)"
   ]
  },
  {
   "cell_type": "code",
   "execution_count": 96,
   "id": "e7998fb8-88d2-400a-ba14-17e717e88d6c",
   "metadata": {
    "tags": []
   },
   "outputs": [],
   "source": [
    "import scipy"
   ]
  },
  {
   "cell_type": "code",
   "execution_count": 97,
   "id": "aeefb86b-666f-4ac2-804b-6eaceac2e162",
   "metadata": {
    "tags": []
   },
   "outputs": [
    {
     "data": {
      "text/plain": [
       "-1.6448536269514729"
      ]
     },
     "execution_count": 97,
     "metadata": {},
     "output_type": "execute_result"
    }
   ],
   "source": [
    "scipy.stats.norm.ppf(.05)"
   ]
  },
  {
   "cell_type": "code",
   "execution_count": 98,
   "id": "962cee78-9708-498b-bb81-7c22fe7b6415",
   "metadata": {
    "tags": []
   },
   "outputs": [
    {
     "data": {
      "text/plain": [
       "<function ndarray.trace>"
      ]
     },
     "execution_count": 98,
     "metadata": {},
     "output_type": "execute_result"
    }
   ],
   "source": [
    "X.trace"
   ]
  },
  {
   "cell_type": "code",
   "execution_count": 99,
   "id": "ffb97a35-dc4a-44d3-b5f4-b83aa1be1e85",
   "metadata": {
    "tags": []
   },
   "outputs": [
    {
     "data": {
      "text/plain": [
       "645"
      ]
     },
     "execution_count": 99,
     "metadata": {},
     "output_type": "execute_result"
    }
   ],
   "source": [
    "np.trace(X)"
   ]
  },
  {
   "cell_type": "code",
   "execution_count": null,
   "id": "d5c68b81-1eb7-49f6-ada3-38a5abd767a2",
   "metadata": {},
   "outputs": [],
   "source": []
  }
 ],
 "metadata": {
  "kernelspec": {
   "display_name": "Python 3 (ipykernel)",
   "language": "python",
   "name": "python3"
  },
  "language_info": {
   "codemirror_mode": {
    "name": "ipython",
    "version": 3
   },
   "file_extension": ".py",
   "mimetype": "text/x-python",
   "name": "python",
   "nbconvert_exporter": "python",
   "pygments_lexer": "ipython3",
   "version": "3.11.2"
  }
 },
 "nbformat": 4,
 "nbformat_minor": 5
}
