{
 "cells": [
  {
   "cell_type": "markdown",
   "id": "4b49d29d",
   "metadata": {},
   "source": [
    "### Numpy  Test"
   ]
  },
  {
   "cell_type": "markdown",
   "id": "e890ef6c",
   "metadata": {},
   "source": [
    "Broadcasting and Vectorized operations"
   ]
  },
  {
   "cell_type": "code",
   "execution_count": 1,
   "id": "ec0865de",
   "metadata": {},
   "outputs": [],
   "source": [
    "import numpy as np"
   ]
  },
  {
   "cell_type": "code",
   "execution_count": 2,
   "id": "95951dae",
   "metadata": {},
   "outputs": [
    {
     "data": {
      "text/plain": [
       "array([0, 1, 2, 3, 4, 5, 6, 7, 8, 9])"
      ]
     },
     "execution_count": 2,
     "metadata": {},
     "output_type": "execute_result"
    }
   ],
   "source": [
    "a = np.arange(10)\n",
    "a"
   ]
  },
  {
   "cell_type": "code",
   "execution_count": 3,
   "id": "ed32f888",
   "metadata": {},
   "outputs": [
    {
     "data": {
      "text/plain": [
       "array([10, 12, 14, 16, 18, 20, 22, 24, 26, 28, 30, 32, 34, 36, 38, 40, 42,\n",
       "       44, 46, 48, 50, 52, 54, 56, 58, 60, 62, 64, 66, 68, 70, 72, 74, 76,\n",
       "       78, 80, 82, 84, 86, 88, 90, 92, 94, 96, 98])"
      ]
     },
     "execution_count": 3,
     "metadata": {},
     "output_type": "execute_result"
    }
   ],
   "source": [
    "b = np.arange(10,100,2)\n",
    "b"
   ]
  },
  {
   "cell_type": "code",
   "execution_count": 4,
   "id": "c655a9fb",
   "metadata": {},
   "outputs": [
    {
     "data": {
      "text/plain": [
       "array([ 2,  3,  4,  5,  6,  7,  8,  9, 10, 11])"
      ]
     },
     "execution_count": 4,
     "metadata": {},
     "output_type": "execute_result"
    }
   ],
   "source": [
    "a+2"
   ]
  },
  {
   "cell_type": "code",
   "execution_count": 5,
   "id": "4ea96a4c",
   "metadata": {},
   "outputs": [
    {
     "data": {
      "text/plain": [
       "array([-3, -2, -1,  0,  1,  2,  3,  4,  5,  6])"
      ]
     },
     "execution_count": 5,
     "metadata": {},
     "output_type": "execute_result"
    }
   ],
   "source": [
    "a-3"
   ]
  },
  {
   "cell_type": "code",
   "execution_count": 7,
   "id": "f011d2c4",
   "metadata": {},
   "outputs": [],
   "source": [
    "x = np.random.normal(50,3,100)"
   ]
  },
  {
   "cell_type": "code",
   "execution_count": 10,
   "id": "e1893537",
   "metadata": {},
   "outputs": [],
   "source": [
    "z = (x-x.mean())/x.std()"
   ]
  },
  {
   "cell_type": "code",
   "execution_count": 13,
   "id": "27ffc6b2",
   "metadata": {},
   "outputs": [
    {
     "data": {
      "text/plain": [
       "100"
      ]
     },
     "execution_count": 13,
     "metadata": {},
     "output_type": "execute_result"
    }
   ],
   "source": [
    "z[z < 3].size"
   ]
  },
  {
   "cell_type": "code",
   "execution_count": 15,
   "id": "47b97c5c",
   "metadata": {},
   "outputs": [
    {
     "data": {
      "text/plain": [
       "100"
      ]
     },
     "execution_count": 15,
     "metadata": {},
     "output_type": "execute_result"
    }
   ],
   "source": [
    "z[z >-3].size"
   ]
  },
  {
   "cell_type": "code",
   "execution_count": 17,
   "id": "88f1c24e",
   "metadata": {},
   "outputs": [
    {
     "data": {
      "text/plain": [
       "[0, 0, 0, 0, 0]"
      ]
     },
     "execution_count": 17,
     "metadata": {},
     "output_type": "execute_result"
    }
   ],
   "source": [
    "l = [0 for i in range(100)]\n",
    "l[:5]"
   ]
  },
  {
   "cell_type": "code",
   "execution_count": 18,
   "id": "81b7ac39",
   "metadata": {},
   "outputs": [
    {
     "data": {
      "text/plain": [
       "[51.83710526069401,\n",
       " 47.80156601304425,\n",
       " 54.0256898591685,\n",
       " 50.094310047438995,\n",
       " 47.16373608812311,\n",
       " 51.401954226909396,\n",
       " 49.53203653390216,\n",
       " 51.10622026454261,\n",
       " 54.71107304652026,\n",
       " 50.249639147305984]"
      ]
     },
     "execution_count": 18,
     "metadata": {},
     "output_type": "execute_result"
    }
   ],
   "source": [
    "ls = [i+2 for i in x]\n",
    "ls[:10]"
   ]
  },
  {
   "cell_type": "code",
   "execution_count": 19,
   "id": "ef7e9c19",
   "metadata": {},
   "outputs": [
    {
     "data": {
      "text/plain": [
       "list"
      ]
     },
     "execution_count": 19,
     "metadata": {},
     "output_type": "execute_result"
    }
   ],
   "source": [
    "type(ls)"
   ]
  },
  {
   "cell_type": "code",
   "execution_count": 23,
   "id": "7bd09015",
   "metadata": {},
   "outputs": [],
   "source": [
    "arr = np.array(ls).reshape(10,10).sum(axis=1)"
   ]
  },
  {
   "cell_type": "code",
   "execution_count": 24,
   "id": "11c4a615",
   "metadata": {},
   "outputs": [
    {
     "data": {
      "text/plain": [
       "array([507.92333049, 513.18682686, 510.00051575, 523.51771639,\n",
       "       519.64680394, 520.61931927, 518.10815068, 524.32295935,\n",
       "       521.86399225, 525.43621266])"
      ]
     },
     "execution_count": 24,
     "metadata": {},
     "output_type": "execute_result"
    }
   ],
   "source": [
    "arr"
   ]
  },
  {
   "cell_type": "code",
   "execution_count": 22,
   "id": "b28ff7fc",
   "metadata": {},
   "outputs": [
    {
     "data": {
      "text/plain": [
       "array([[51.83710526, 47.80156601, 54.02568986, 50.09431005, 47.16373609,\n",
       "        51.40195423, 49.53203653, 51.10622026, 54.71107305, 50.24963915],\n",
       "       [55.09327025, 53.21743391, 50.77525136, 50.67420217, 45.43037684,\n",
       "        50.59956904, 53.7305662 , 51.61896003, 47.64742003, 54.39977702],\n",
       "       [51.22409775, 48.17996309, 53.86601515, 49.66734721, 49.96260325,\n",
       "        51.87117848, 53.99920724, 51.69551689, 46.39098567, 53.143601  ],\n",
       "       [49.72188691, 51.84772085, 51.54343093, 51.6651997 , 55.94375309,\n",
       "        54.96241248, 54.8940845 , 46.54406903, 55.06919299, 51.3259659 ],\n",
       "       [50.4612108 , 54.91391432, 51.58178617, 52.13054906, 52.76960513,\n",
       "        52.1374731 , 49.21861951, 49.57605305, 56.62434885, 50.23324396],\n",
       "       [48.68337838, 55.39207005, 46.33891211, 50.8110412 , 56.89099878,\n",
       "        54.53490597, 50.42108909, 52.43678603, 51.1868147 , 53.92332297],\n",
       "       [53.20119029, 51.50568411, 50.0355919 , 54.43829641, 54.23556501,\n",
       "        54.10222306, 52.73653688, 50.30688291, 50.86930504, 46.67687506],\n",
       "       [51.64864073, 52.33656608, 54.56937626, 51.3033445 , 49.79799862,\n",
       "        56.07231602, 53.74764247, 51.06157857, 53.42166413, 50.36383196],\n",
       "       [51.10842884, 55.58812641, 48.85024976, 53.34568055, 56.39749466,\n",
       "        48.42146421, 55.2706348 , 47.92242307, 54.98537025, 49.97411971],\n",
       "       [54.13830371, 51.3335562 , 55.45775319, 55.05333544, 47.15949921,\n",
       "        58.63239393, 52.53669896, 48.86595329, 46.83498232, 55.42373639]])"
      ]
     },
     "execution_count": 22,
     "metadata": {},
     "output_type": "execute_result"
    }
   ],
   "source": [
    "arr"
   ]
  },
  {
   "cell_type": "code",
   "execution_count": 26,
   "id": "3e84b9b2",
   "metadata": {},
   "outputs": [
    {
     "data": {
      "text/plain": [
       "array([50, 52, 54, 56, 58, 60, 62, 64, 66, 68])"
      ]
     },
     "execution_count": 26,
     "metadata": {},
     "output_type": "execute_result"
    }
   ],
   "source": [
    "a = np.arange(10)\n",
    "b = np.arange(50,60)\n",
    "a+b"
   ]
  },
  {
   "cell_type": "code",
   "execution_count": 27,
   "id": "6fad065d",
   "metadata": {},
   "outputs": [
    {
     "data": {
      "text/plain": [
       "array([  0,  51, 104, 159, 216, 275, 336, 399, 464, 531])"
      ]
     },
     "execution_count": 27,
     "metadata": {},
     "output_type": "execute_result"
    }
   ],
   "source": [
    "a*b"
   ]
  },
  {
   "cell_type": "markdown",
   "id": "19972f61",
   "metadata": {},
   "source": [
    "### Boolean Array"
   ]
  },
  {
   "cell_type": "code",
   "execution_count": 28,
   "id": "ed6e3df8",
   "metadata": {},
   "outputs": [],
   "source": [
    "x = np.arange(5)"
   ]
  },
  {
   "cell_type": "code",
   "execution_count": 31,
   "id": "3ce2a3b5",
   "metadata": {},
   "outputs": [],
   "source": [
    "tf = x > x.mean()"
   ]
  },
  {
   "cell_type": "code",
   "execution_count": 30,
   "id": "93f296b8",
   "metadata": {},
   "outputs": [
    {
     "data": {
      "text/plain": [
       "2.0"
      ]
     },
     "execution_count": 30,
     "metadata": {},
     "output_type": "execute_result"
    }
   ],
   "source": [
    "x.mean()"
   ]
  },
  {
   "cell_type": "code",
   "execution_count": 32,
   "id": "e96f7929",
   "metadata": {},
   "outputs": [
    {
     "data": {
      "text/plain": [
       "2"
      ]
     },
     "execution_count": 32,
     "metadata": {},
     "output_type": "execute_result"
    }
   ],
   "source": [
    "tf.sum()"
   ]
  },
  {
   "cell_type": "code",
   "execution_count": 33,
   "id": "bc6a285f",
   "metadata": {},
   "outputs": [
    {
     "data": {
      "text/plain": [
       "array([ True,  True,  True,  True,  True])"
      ]
     },
     "execution_count": 33,
     "metadata": {},
     "output_type": "execute_result"
    }
   ],
   "source": [
    "x <= x.sum()"
   ]
  },
  {
   "cell_type": "code",
   "execution_count": 34,
   "id": "44e99e1a",
   "metadata": {},
   "outputs": [
    {
     "data": {
      "text/plain": [
       "array([False, False, False, False, False])"
      ]
     },
     "execution_count": 34,
     "metadata": {},
     "output_type": "execute_result"
    }
   ],
   "source": [
    "x < (x-x.mean())/x.std()"
   ]
  },
  {
   "cell_type": "code",
   "execution_count": 35,
   "id": "39838308",
   "metadata": {},
   "outputs": [
    {
     "data": {
      "text/plain": [
       "0"
      ]
     },
     "execution_count": 35,
     "metadata": {},
     "output_type": "execute_result"
    }
   ],
   "source": [
    "x[0]"
   ]
  },
  {
   "cell_type": "code",
   "execution_count": 37,
   "id": "664dd0d1",
   "metadata": {},
   "outputs": [
    {
     "data": {
      "text/plain": [
       "array([3, 4])"
      ]
     },
     "execution_count": 37,
     "metadata": {},
     "output_type": "execute_result"
    }
   ],
   "source": [
    "x[x > 2]"
   ]
  },
  {
   "cell_type": "code",
   "execution_count": 36,
   "id": "dce33c02",
   "metadata": {},
   "outputs": [
    {
     "data": {
      "text/plain": [
       "array([False, False, False,  True,  True])"
      ]
     },
     "execution_count": 36,
     "metadata": {},
     "output_type": "execute_result"
    }
   ],
   "source": [
    "x > 2"
   ]
  },
  {
   "cell_type": "code",
   "execution_count": 38,
   "id": "b3cbcd27",
   "metadata": {},
   "outputs": [
    {
     "data": {
      "text/plain": [
       "array([0, 1, 2, 3, 4])"
      ]
     },
     "execution_count": 38,
     "metadata": {},
     "output_type": "execute_result"
    }
   ],
   "source": [
    "x"
   ]
  },
  {
   "cell_type": "code",
   "execution_count": 39,
   "id": "96003831",
   "metadata": {},
   "outputs": [
    {
     "data": {
      "text/plain": [
       "array([0, 1, 2])"
      ]
     },
     "execution_count": 39,
     "metadata": {},
     "output_type": "execute_result"
    }
   ],
   "source": [
    "x[~(x >2)]"
   ]
  },
  {
   "cell_type": "code",
   "execution_count": 43,
   "id": "55a1cbe2",
   "metadata": {},
   "outputs": [
    {
     "ename": "SyntaxError",
     "evalue": "invalid syntax (3805903785.py, line 1)",
     "output_type": "error",
     "traceback": [
      "\u001b[1;36m  Cell \u001b[1;32mIn[43], line 1\u001b[1;36m\u001b[0m\n\u001b[1;33m    x[!(x >2)] # this is now allowed in numpy\u001b[0m\n\u001b[1;37m      ^\u001b[0m\n\u001b[1;31mSyntaxError\u001b[0m\u001b[1;31m:\u001b[0m invalid syntax\n"
     ]
    }
   ],
   "source": [
    "x[!(x >2)] # this is now allowed in numpy"
   ]
  },
  {
   "cell_type": "code",
   "execution_count": 44,
   "id": "e6e93eac",
   "metadata": {},
   "outputs": [],
   "source": [
    "x = np.random.uniform(10,100,500)"
   ]
  },
  {
   "cell_type": "code",
   "execution_count": 46,
   "id": "61e918cd",
   "metadata": {},
   "outputs": [
    {
     "data": {
      "text/plain": [
       "array([97.14483167, 18.62447118, 43.20474999, 77.17524715, 33.22601714,\n",
       "       70.53407152, 79.4885863 , 96.69393752, 24.70866905, 71.98332432])"
      ]
     },
     "execution_count": 46,
     "metadata": {},
     "output_type": "execute_result"
    }
   ],
   "source": [
    "x[:10]"
   ]
  },
  {
   "cell_type": "code",
   "execution_count": 50,
   "id": "00613df4",
   "metadata": {},
   "outputs": [
    {
     "data": {
      "text/plain": [
       "array([65.70218949, 63.60749518, 69.92919522, 62.63760603, 63.31939932,\n",
       "       61.69038647, 68.0290102 , 62.10134621, 62.15147097, 69.87737607,\n",
       "       66.39396873, 69.88764634, 62.66814571, 65.36378277, 61.56812976,\n",
       "       67.03762664, 60.17398341, 69.79890594, 63.6181596 , 62.06927458,\n",
       "       65.23757363, 68.87358271, 68.45669041, 66.76095277, 61.52690299,\n",
       "       63.05969837, 68.11442948, 67.9965862 , 64.86050751, 62.29238183,\n",
       "       65.55765741, 69.61595193, 66.79724293, 66.98992007, 63.89454696,\n",
       "       60.01146068, 60.48333962, 69.29743621, 65.2162868 , 60.88060445,\n",
       "       69.93600408, 68.76709347, 62.32326285, 61.98154335, 64.67831727,\n",
       "       64.85208169, 69.17563525, 62.30585048, 62.0342598 , 64.79620655])"
      ]
     },
     "execution_count": 50,
     "metadata": {},
     "output_type": "execute_result"
    }
   ],
   "source": [
    "x[(x > 60) & (x < 70)]"
   ]
  },
  {
   "cell_type": "code",
   "execution_count": 51,
   "id": "1b36153a",
   "metadata": {},
   "outputs": [
    {
     "data": {
      "text/plain": [
       "50"
      ]
     },
     "execution_count": 51,
     "metadata": {},
     "output_type": "execute_result"
    }
   ],
   "source": [
    "x[(x > 60) & (x < 70)].size"
   ]
  },
  {
   "cell_type": "markdown",
   "id": "439aae2a",
   "metadata": {},
   "source": [
    "Matplotlib"
   ]
  },
  {
   "cell_type": "code",
   "execution_count": 52,
   "id": "06f773fa",
   "metadata": {},
   "outputs": [],
   "source": [
    "import matplotlib.pyplot as plt"
   ]
  },
  {
   "cell_type": "code",
   "execution_count": 56,
   "id": "31b26d10",
   "metadata": {},
   "outputs": [
    {
     "data": {
      "text/plain": [
       "[<matplotlib.lines.Line2D at 0x2aad46809d0>]"
      ]
     },
     "execution_count": 56,
     "metadata": {},
     "output_type": "execute_result"
    },
    {
     "data": {
      "image/png": "[encoded data removed]",
      "text/plain": [
       "<Figure size 640x480 with 1 Axes>"
      ]
     },
     "metadata": {},
     "output_type": "display_data"
    }
   ],
   "source": [
    "l = np.arange(x.size)\n",
    "plt.plot(l[:70],x[:70])"
   ]
  },
  {
   "cell_type": "code",
   "execution_count": 58,
   "id": "9579ab51",
   "metadata": {},
   "outputs": [],
   "source": [
    "arr2 = np.random.randint(100,size = (3,3))"
   ]
  },
  {
   "cell_type": "code",
   "execution_count": 59,
   "id": "403a7db6",
   "metadata": {},
   "outputs": [
    {
     "data": {
      "text/plain": [
       "array([[29, 75, 68],\n",
       "       [65, 56, 90],\n",
       "       [65, 59, 96]])"
      ]
     },
     "execution_count": 59,
     "metadata": {},
     "output_type": "execute_result"
    }
   ],
   "source": [
    "arr2"
   ]
  },
  {
   "cell_type": "code",
   "execution_count": 60,
   "id": "ccde4e60",
   "metadata": {},
   "outputs": [
    {
     "data": {
      "text/plain": [
       "array([[False,  True,  True],\n",
       "       [ True,  True,  True],\n",
       "       [ True,  True,  True]])"
      ]
     },
     "execution_count": 60,
     "metadata": {},
     "output_type": "execute_result"
    }
   ],
   "source": [
    "arr2 > 50 "
   ]
  },
  {
   "cell_type": "code",
   "execution_count": 61,
   "id": "f2d72106",
   "metadata": {},
   "outputs": [
    {
     "data": {
      "text/plain": [
       "array([75, 68, 65, 56, 90, 65, 59, 96])"
      ]
     },
     "execution_count": 61,
     "metadata": {},
     "output_type": "execute_result"
    }
   ],
   "source": [
    "arr2[arr2 > 50]"
   ]
  },
  {
   "cell_type": "code",
   "execution_count": 63,
   "id": "52b1aa1e",
   "metadata": {},
   "outputs": [
    {
     "data": {
      "text/plain": [
       "array([[29, 65, 65],\n",
       "       [75, 56, 59],\n",
       "       [68, 90, 96]])"
      ]
     },
     "execution_count": 63,
     "metadata": {},
     "output_type": "execute_result"
    }
   ],
   "source": [
    "arr2.T"
   ]
  },
  {
   "cell_type": "code",
   "execution_count": 65,
   "id": "5a12ab5e",
   "metadata": {},
   "outputs": [],
   "source": [
    "res = np.linalg.eig(arr2)"
   ]
  },
  {
   "cell_type": "code",
   "execution_count": 66,
   "id": "e5c11023",
   "metadata": {},
   "outputs": [
    {
     "data": {
      "text/plain": [
       "array([204.26440267, -25.92271544,   2.65831277])"
      ]
     },
     "execution_count": 66,
     "metadata": {},
     "output_type": "execute_result"
    }
   ],
   "source": [
    "res[0]"
   ]
  },
  {
   "cell_type": "code",
   "execution_count": 67,
   "id": "8e055ecf",
   "metadata": {},
   "outputs": [
    {
     "data": {
      "text/plain": [
       "array([[-0.49923081, -0.87767861, -0.61252812],\n",
       "       [-0.59894116,  0.38928369, -0.40195852],\n",
       "       [-0.62612945,  0.27953259,  0.68061637]])"
      ]
     },
     "execution_count": 67,
     "metadata": {},
     "output_type": "execute_result"
    }
   ],
   "source": [
    "res[1]"
   ]
  },
  {
   "cell_type": "code",
   "execution_count": 68,
   "id": "4fa62ecf",
   "metadata": {},
   "outputs": [
    {
     "data": {
      "text/plain": [
       "(array([204.26440267, -25.92271544,   2.65831277]),\n",
       " array([[-0.49923081, -0.87767861, -0.61252812],\n",
       "        [-0.59894116,  0.38928369, -0.40195852],\n",
       "        [-0.62612945,  0.27953259,  0.68061637]]))"
      ]
     },
     "execution_count": 68,
     "metadata": {},
     "output_type": "execute_result"
    }
   ],
   "source": [
    "res"
   ]
  },
  {
   "cell_type": "code",
   "execution_count": null,
   "id": "9d4171fe",
   "metadata": {},
   "outputs": [],
   "source": []
  }
 ],
 "metadata": {
  "kernelspec": {
   "display_name": "Python 3 (ipykernel)",
   "language": "python",
   "name": "python3"
  },
  "language_info": {
   "codemirror_mode": {
    "name": "ipython",
    "version": 3
   },
   "file_extension": ".py",
   "mimetype": "text/x-python",
   "name": "python",
   "nbconvert_exporter": "python",
   "pygments_lexer": "ipython3",
   "version": "3.11.2"
  }
 },
 "nbformat": 4,
 "nbformat_minor": 5
}
